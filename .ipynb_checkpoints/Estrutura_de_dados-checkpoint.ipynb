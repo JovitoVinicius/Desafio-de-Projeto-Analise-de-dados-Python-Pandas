{
 "cells": [
  {
   "cell_type": "markdown",
   "id": "35237a0c",
   "metadata": {},
   "source": [
    "### Vinicius Jovito - Bootcamp Ciência de Dados"
   ]
  },
  {
   "cell_type": "markdown",
   "id": "6beb07f6",
   "metadata": {},
   "source": [
    "# Estrutura de dados"
   ]
  },
  {
   "cell_type": "markdown",
   "id": "647236d6",
   "metadata": {},
   "source": [
    "## Listas:"
   ]
  },
  {
   "cell_type": "code",
   "execution_count": 1,
   "id": "bdbcc36f",
   "metadata": {},
   "outputs": [
    {
     "data": {
      "text/plain": [
       "[1, 2, 3]"
      ]
     },
     "execution_count": 1,
     "metadata": {},
     "output_type": "execute_result"
    }
   ],
   "source": [
    "#Criando uma lista\n",
    "animais = [1,2,3]\n",
    "animais"
   ]
  },
  {
   "cell_type": "code",
   "execution_count": 2,
   "id": "0977d2da",
   "metadata": {},
   "outputs": [
    {
     "data": {
      "text/plain": [
       "['Gato', 'Cachorro', 123, 6.5]"
      ]
     },
     "execution_count": 2,
     "metadata": {},
     "output_type": "execute_result"
    }
   ],
   "source": [
    "animais = [\"Gato\", \"Cachorro\", 123, 6.5]\n",
    "animais"
   ]
  },
  {
   "cell_type": "code",
   "execution_count": 4,
   "id": "402d8ca8",
   "metadata": {},
   "outputs": [
    {
     "data": {
      "text/plain": [
       "'Cachorro'"
      ]
     },
     "execution_count": 4,
     "metadata": {},
     "output_type": "execute_result"
    }
   ],
   "source": [
    "#Imprimindo elemento de acordo com index\n",
    "animais[1]"
   ]
  },
  {
   "cell_type": "code",
   "execution_count": 5,
   "id": "f42533d9",
   "metadata": {},
   "outputs": [],
   "source": [
    "#Substituindo um elemento da lista\n",
    "animais[2] = \"Papagaio\""
   ]
  },
  {
   "cell_type": "code",
   "execution_count": 6,
   "id": "881c3f31",
   "metadata": {},
   "outputs": [
    {
     "data": {
      "text/plain": [
       "['Gato', 'Cachorro', 'Papagaio', 6.5]"
      ]
     },
     "execution_count": 6,
     "metadata": {},
     "output_type": "execute_result"
    }
   ],
   "source": [
    "animais"
   ]
  },
  {
   "cell_type": "code",
   "execution_count": 7,
   "id": "f08a18ba",
   "metadata": {},
   "outputs": [],
   "source": [
    "#Removendo um elemento da lista\n",
    "animais.remove(6.5)"
   ]
  },
  {
   "cell_type": "code",
   "execution_count": 8,
   "id": "7725fc49",
   "metadata": {},
   "outputs": [
    {
     "data": {
      "text/plain": [
       "['Gato', 'Cachorro', 'Papagaio']"
      ]
     },
     "execution_count": 8,
     "metadata": {},
     "output_type": "execute_result"
    }
   ],
   "source": [
    "animais"
   ]
  },
  {
   "cell_type": "code",
   "execution_count": 10,
   "id": "c3c12ed2",
   "metadata": {},
   "outputs": [
    {
     "data": {
      "text/plain": [
       "3"
      ]
     },
     "execution_count": 10,
     "metadata": {},
     "output_type": "execute_result"
    }
   ],
   "source": [
    "#Retornando o tamanho da lista\n",
    "len(animais)"
   ]
  },
  {
   "cell_type": "code",
   "execution_count": 12,
   "id": "30b8409c",
   "metadata": {},
   "outputs": [
    {
     "data": {
      "text/plain": [
       "True"
      ]
     },
     "execution_count": 12,
     "metadata": {},
     "output_type": "execute_result"
    }
   ],
   "source": [
    "#Verificando se existe um elemento na lista\n",
    "\"Gato\" in animais"
   ]
  },
  {
   "cell_type": "code",
   "execution_count": 13,
   "id": "1f7d95bd",
   "metadata": {},
   "outputs": [],
   "source": [
    "lista = [500, 10 ,5, 6]"
   ]
  },
  {
   "cell_type": "code",
   "execution_count": 14,
   "id": "58d75ffb",
   "metadata": {},
   "outputs": [
    {
     "data": {
      "text/plain": [
       "500"
      ]
     },
     "execution_count": 14,
     "metadata": {},
     "output_type": "execute_result"
    }
   ],
   "source": [
    "#Retornando o maior valor da lista\n",
    "max(lista)"
   ]
  },
  {
   "cell_type": "code",
   "execution_count": 15,
   "id": "08e4be48",
   "metadata": {},
   "outputs": [
    {
     "data": {
      "text/plain": [
       "5"
      ]
     },
     "execution_count": 15,
     "metadata": {},
     "output_type": "execute_result"
    }
   ],
   "source": [
    "#Retornando o menor valor da lista\n",
    "min(lista)"
   ]
  },
  {
   "cell_type": "code",
   "execution_count": 19,
   "id": "9a74ce17",
   "metadata": {},
   "outputs": [],
   "source": [
    "#Adicionando um animal na lista de animais (Append funciona apenas com um unico elemento)\n",
    "animais.append(\"Girafa\")"
   ]
  },
  {
   "cell_type": "code",
   "execution_count": 20,
   "id": "2abe00f5",
   "metadata": {},
   "outputs": [
    {
     "data": {
      "text/plain": [
       "['Gato', 'Cachorro', 'Papagaio', 'Girafa', 'Girafa']"
      ]
     },
     "execution_count": 20,
     "metadata": {},
     "output_type": "execute_result"
    }
   ],
   "source": [
    "animais"
   ]
  },
  {
   "cell_type": "code",
   "execution_count": 22,
   "id": "a0208e3d",
   "metadata": {},
   "outputs": [],
   "source": [
    "#Adicionando mais de um elemento na lista\n",
    "animais.extend([\"Macaco\",\"Elefante\"])"
   ]
  },
  {
   "cell_type": "code",
   "execution_count": 23,
   "id": "6f8b9195",
   "metadata": {},
   "outputs": [
    {
     "data": {
      "text/plain": [
       "2"
      ]
     },
     "execution_count": 23,
     "metadata": {},
     "output_type": "execute_result"
    }
   ],
   "source": [
    "#Contando a quantidade de um elemento em uma lista\n",
    "animais.count(\"Girafa\")"
   ]
  },
  {
   "cell_type": "code",
   "execution_count": 24,
   "id": "b87e4948",
   "metadata": {},
   "outputs": [],
   "source": [
    "#Ordenando a lista com comando sort\n",
    "lista.sort()"
   ]
  },
  {
   "cell_type": "code",
   "execution_count": 25,
   "id": "4b715001",
   "metadata": {},
   "outputs": [
    {
     "data": {
      "text/plain": [
       "[5, 6, 10, 500]"
      ]
     },
     "execution_count": 25,
     "metadata": {},
     "output_type": "execute_result"
    }
   ],
   "source": [
    "lista"
   ]
  },
  {
   "cell_type": "markdown",
   "id": "d808a637",
   "metadata": {},
   "source": [
    "   ## Tuplas\n",
    "   "
   ]
  },
  {
   "cell_type": "code",
   "execution_count": 26,
   "id": "cf3bcc3f",
   "metadata": {},
   "outputs": [],
   "source": [
    "#As tuplas usam parênteses como sintaxe\n",
    "tupla = (\"Banana\",\"Maça\",10, 50)"
   ]
  },
  {
   "cell_type": "code",
   "execution_count": 27,
   "id": "f7290fc2",
   "metadata": {},
   "outputs": [
    {
     "data": {
      "text/plain": [
       "'Banana'"
      ]
     },
     "execution_count": 27,
     "metadata": {},
     "output_type": "execute_result"
    }
   ],
   "source": [
    "#Retornando o primeiro elemento\n",
    "tupla[0]"
   ]
  },
  {
   "cell_type": "code",
   "execution_count": 29,
   "id": "ddd1e82c",
   "metadata": {},
   "outputs": [],
   "source": [
    "#Diferente das listas, as tuplas são imutáveis\n"
   ]
  },
  {
   "cell_type": "code",
   "execution_count": 30,
   "id": "7f7caaf7",
   "metadata": {},
   "outputs": [
    {
     "data": {
      "text/plain": [
       "('Banana', 'Maça')"
      ]
     },
     "execution_count": 30,
     "metadata": {},
     "output_type": "execute_result"
    }
   ],
   "source": [
    "#É possível realizar slice em tuplas\n",
    "tupla[0:2]"
   ]
  },
  {
   "cell_type": "markdown",
   "id": "5e871667",
   "metadata": {},
   "source": [
    "## Dicionários"
   ]
  },
  {
   "cell_type": "code",
   "execution_count": 31,
   "id": "46a788b5",
   "metadata": {},
   "outputs": [],
   "source": [
    "#Para criar um dicionário utiliza-se as {}"
   ]
  },
  {
   "cell_type": "code",
   "execution_count": 32,
   "id": "1a4c7b33",
   "metadata": {},
   "outputs": [],
   "source": [
    "#Dicionários trabalham com chave e valor\n",
    "dicionario = {\"Maça\": 20,\"Banana\":15,\"Uva\":16}"
   ]
  },
  {
   "cell_type": "code",
   "execution_count": 33,
   "id": "33933088",
   "metadata": {},
   "outputs": [
    {
     "data": {
      "text/plain": [
       "{'Maça': 20, 'Banana': 15, 'Uva': 16}"
      ]
     },
     "execution_count": 33,
     "metadata": {},
     "output_type": "execute_result"
    }
   ],
   "source": [
    "dicionario"
   ]
  },
  {
   "cell_type": "code",
   "execution_count": 34,
   "id": "6b2b1a32",
   "metadata": {},
   "outputs": [
    {
     "data": {
      "text/plain": [
       "20"
      ]
     },
     "execution_count": 34,
     "metadata": {},
     "output_type": "execute_result"
    }
   ],
   "source": [
    "#Acessando o valor de um dicionário pela chave\n",
    "dicionario[\"Maça\"]"
   ]
  },
  {
   "cell_type": "code",
   "execution_count": 35,
   "id": "1fa03041",
   "metadata": {},
   "outputs": [],
   "source": [
    "#Atualizando o valor de maçã\n",
    "dicionario[\"Maça\"] = 25"
   ]
  },
  {
   "cell_type": "code",
   "execution_count": 36,
   "id": "87415f0b",
   "metadata": {},
   "outputs": [
    {
     "data": {
      "text/plain": [
       "{'Maça': 25, 'Banana': 15, 'Uva': 16}"
      ]
     },
     "execution_count": 36,
     "metadata": {},
     "output_type": "execute_result"
    }
   ],
   "source": [
    "dicionario"
   ]
  },
  {
   "cell_type": "code",
   "execution_count": 37,
   "id": "cb78873c",
   "metadata": {},
   "outputs": [
    {
     "data": {
      "text/plain": [
       "dict_keys(['Maça', 'Banana', 'Uva'])"
      ]
     },
     "execution_count": 37,
     "metadata": {},
     "output_type": "execute_result"
    }
   ],
   "source": [
    "#Retornando todas as chaves de um dicionario\n",
    "dicionario.keys()"
   ]
  },
  {
   "cell_type": "code",
   "execution_count": 38,
   "id": "fecbcfed",
   "metadata": {},
   "outputs": [
    {
     "data": {
      "text/plain": [
       "dict_values([25, 15, 16])"
      ]
     },
     "execution_count": 38,
     "metadata": {},
     "output_type": "execute_result"
    }
   ],
   "source": [
    "#Retornando os valores de um dicionario\n",
    "dicionario.values()"
   ]
  },
  {
   "cell_type": "code",
   "execution_count": 40,
   "id": "29dcfbab",
   "metadata": {},
   "outputs": [
    {
     "data": {
      "text/plain": [
       "45"
      ]
     },
     "execution_count": 40,
     "metadata": {},
     "output_type": "execute_result"
    }
   ],
   "source": [
    "#Verificando se já existe uma chave no dicionário e caso não exista inserir\n",
    "dicionario.setdefault(\"Limão\", 45)"
   ]
  },
  {
   "cell_type": "code",
   "execution_count": 41,
   "id": "b90e8b22",
   "metadata": {},
   "outputs": [
    {
     "data": {
      "text/plain": [
       "{'Maça': 25, 'Banana': 15, 'Uva': 16, 'Limão': 45}"
      ]
     },
     "execution_count": 41,
     "metadata": {},
     "output_type": "execute_result"
    }
   ],
   "source": [
    "dicionario"
   ]
  },
  {
   "cell_type": "code",
   "execution_count": null,
   "id": "09c5f777",
   "metadata": {},
   "outputs": [],
   "source": []
  }
 ],
 "metadata": {
  "kernelspec": {
   "display_name": "Python 3 (ipykernel)",
   "language": "python",
   "name": "python3"
  },
  "language_info": {
   "codemirror_mode": {
    "name": "ipython",
    "version": 3
   },
   "file_extension": ".py",
   "mimetype": "text/x-python",
   "name": "python",
   "nbconvert_exporter": "python",
   "pygments_lexer": "ipython3",
   "version": "3.9.12"
  }
 },
 "nbformat": 4,
 "nbformat_minor": 5
}
